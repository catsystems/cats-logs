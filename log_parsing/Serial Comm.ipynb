{
 "cells": [
  {
   "cell_type": "code",
   "execution_count": 28,
   "metadata": {},
   "outputs": [],
   "source": [
    "import serial.tools.list_ports\n",
    "from serial import Serial\n",
    "import json\n",
    "import time\n",
    "import re\n",
    "import os\n",
    "from datetime import datetime\n",
    "from pathlib import Path"
   ]
  },
  {
   "cell_type": "code",
   "execution_count": 29,
   "metadata": {},
   "outputs": [],
   "source": [
    "boot_state_map = {\n",
    "  'CATS_INVALID': 0,\n",
    "  'CATS_IDLE': 1,\n",
    "  'CATS_CONFIG': 2,\n",
    "  'CATS_TIMER': 3,\n",
    "  'CATS_DROP': 4,\n",
    "  'CATS_FLIGHT': 5\n",
    "}\n",
    "\n",
    "bool_map = {\n",
    "    False: 0,\n",
    "    True: 1\n",
    "}"
   ]
  },
  {
   "cell_type": "code",
   "execution_count": 30,
   "metadata": {},
   "outputs": [],
   "source": [
    "load_new_config = False\n",
    "read_logs = True"
   ]
  },
  {
   "cell_type": "code",
   "execution_count": 31,
   "metadata": {},
   "outputs": [],
   "source": [
    "def prepare_config_msg(config):\n",
    "    boot_state = boot_state_map[config['boot_state']]\n",
    "    clear_flash = bool_map[config['clear_flash']]\n",
    "    clear_log_info = bool_map[config['clear_log_info']]\n",
    "    return f\"CFG:{boot_state};{clear_flash};{clear_log_info}\""
   ]
  },
  {
   "cell_type": "code",
   "execution_count": 32,
   "metadata": {},
   "outputs": [
    {
     "name": "stdout",
     "output_type": "stream",
     "text": [
      "{'boot_state': 'CATS_CONFIG', 'clear_flash': False, 'clear_log_info': False}\n",
      "CFG:2;0;0\n"
     ]
    }
   ],
   "source": [
    "with open('cats_config.json') as f:\n",
    "    config = json.load(f)\n",
    "    \n",
    "print(config)\n",
    "print(prepare_config_msg(config))"
   ]
  },
  {
   "cell_type": "code",
   "execution_count": 33,
   "metadata": {},
   "outputs": [
    {
     "name": "stdout",
     "output_type": "stream",
     "text": [
      "C.A.T.S. found at COM12 - STMicroelectronics Virtual COM Port (COM12)\n"
     ]
    }
   ],
   "source": [
    "while True:\n",
    "    for port in serial.tools.list_ports.comports():\n",
    "        if(port.description.startswith('STMicroelectronics Virtual COM Port')):\n",
    "            #print(port)\n",
    "            break\n",
    "    else:\n",
    "        print(\"No C.A.T.S. found, sleeping for 1 second\")\n",
    "        time.sleep(1)\n",
    "        continue\n",
    "    break\n",
    "print(f'C.A.T.S. found at {port}')"
   ]
  },
  {
   "cell_type": "code",
   "execution_count": 34,
   "metadata": {},
   "outputs": [],
   "source": [
    "if load_new_config:\n",
    "    start_time = time.time()\n",
    "    current_time = start_time\n",
    "    with serial.Serial(port.name, 115200, timeout=10) as ser:\n",
    "        #wait for 10 seconds to receive the commands\n",
    "        while (current_time - start_time) < 10:\n",
    "            current_time = time.time()\n",
    "            line = ser.readline().decode().rstrip()\n",
    "            print(f'C.A.T.S. says: \"{line}\"')\n",
    "            if line == 'What is my purpose?':\n",
    "                print('PC says: \"Wait for instructions!\"')\n",
    "                ser.write(b'Wait for instructions!')\n",
    "                ack_line = ser.readline().decode().rstrip()\n",
    "                print(f'C.A.T.S. says: \"{ack_line}\"')\n",
    "                if ack_line == 'OK!':\n",
    "                    ser.write(b'Hello from PC!')\n",
    "                    time.sleep(0.1)\n",
    "                    cfg_str = prepare_config_msg(config)\n",
    "                    ser.write(cfg_str.encode())\n",
    "                    read_cfg_response_len = 0\n",
    "                    while read_cfg_response_len < 10:\n",
    "                        cfg_response_line = ser.readline().decode().rstrip()\n",
    "                        print(f'C.A.T.S. says: \"{cfg_response_line}\"')\n",
    "                        read_cfg_response_len += 1\n",
    "                break"
   ]
  },
  {
   "cell_type": "code",
   "execution_count": 35,
   "metadata": {},
   "outputs": [],
   "source": [
    "now = datetime.now()\n",
    "current_flight_dir = str(now.strftime(\"%d_%m_%Y_%H_%M_%S\"))\n",
    "full_path = os.path.join(os.getcwd(), 'flight_logs', current_flight_dir)\n",
    "Path(full_path).mkdir(parents=True, exist_ok=True)"
   ]
  },
  {
   "cell_type": "code",
   "execution_count": null,
   "metadata": {},
   "outputs": [
    {
     "name": "stdout",
     "output_type": "stream",
     "text": [
      "First flight found!\n",
      "Current flight: 1\n",
      "Current flight: 2\n",
      "Current flight: 4\n"
     ]
    }
   ],
   "source": [
    "with serial.Serial(port.name, 115200, timeout=30) as ser:\n",
    "    first_flight_found = False\n",
    "    current_flight = '0'\n",
    "    while first_flight_found == False:\n",
    "        line = ser.readline().decode().rstrip()\n",
    "        if f_rx := re.search(r'Recording of flight #(\\d+):', line):\n",
    "            print(\"First flight found!\")\n",
    "            current_flight = f_rx.groups(0)[0]\n",
    "            first_flight_found = True\n",
    "            break\n",
    "    while True:\n",
    "        filename = f'flight_{current_flight}.log'\n",
    "        with open(os.path.join(full_path, filename), 'w') as log_file:\n",
    "            while True:\n",
    "                line = ser.readline().decode().rstrip()\n",
    "                if f_rx := re.search(r'Recording of flight #(\\d+):', line):\n",
    "                    current_flight = f_rx.groups(0)[0]\n",
    "                    print(f\"Current flight: {current_flight}\")\n",
    "                    break\n",
    "                else:\n",
    "                    log_file.write(f'{line}\\r\\n')"
   ]
  },
  {
   "cell_type": "code",
   "execution_count": null,
   "metadata": {},
   "outputs": [],
   "source": [
    "with serial.Serial(port.name, 115200, timeout=10) as ser:\n",
    "    while True:\n",
    "        line = ser.readline().decode().rstrip()\n",
    "        print(line)"
   ]
  },
  {
   "cell_type": "code",
   "execution_count": null,
   "metadata": {},
   "outputs": [],
   "source": []
  },
  {
   "cell_type": "code",
   "execution_count": null,
   "metadata": {},
   "outputs": [],
   "source": []
  },
  {
   "cell_type": "code",
   "execution_count": null,
   "metadata": {},
   "outputs": [],
   "source": []
  },
  {
   "cell_type": "code",
   "execution_count": null,
   "metadata": {},
   "outputs": [],
   "source": []
  }
 ],
 "metadata": {
  "kernelspec": {
   "display_name": "Python 3",
   "language": "python",
   "name": "python3"
  },
  "language_info": {
   "codemirror_mode": {
    "name": "ipython",
    "version": 3
   },
   "file_extension": ".py",
   "mimetype": "text/x-python",
   "name": "python",
   "nbconvert_exporter": "python",
   "pygments_lexer": "ipython3",
   "version": "3.8.3"
  }
 },
 "nbformat": 4,
 "nbformat_minor": 4
}
