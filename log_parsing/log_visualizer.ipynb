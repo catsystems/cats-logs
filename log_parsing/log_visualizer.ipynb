{
 "cells": [
  {
   "cell_type": "code",
   "execution_count": null,
   "metadata": {},
   "outputs": [],
   "source": [
    "from embedded_constants import FLIGHT_MAP\n",
    "from plot_generator import *\n",
    "from html_generator import *\n",
    "import binary_parser"
   ]
  },
  {
   "cell_type": "code",
   "execution_count": null,
   "metadata": {},
   "outputs": [],
   "source": [
    "log_path = 'flight_logs/euroc_22/periphas_recovery_e22/periphas_recovery_cats.log'\n",
    "# log_path = 'flight_logs/mountain_slam/mountain_slam.log'"
   ]
  },
  {
   "cell_type": "code",
   "execution_count": null,
   "metadata": {},
   "outputs": [],
   "source": [
    "# %%capture\n",
    "df_dict, plot_output_dir, base_name = binary_parser.extract_data(input_log_path = log_path, output_log_path = None, \n",
    "                                                                 state_map = FLIGHT_MAP, from_notebook = True)\n",
    "\n",
    "imu_df = df_dict['imu_df']\n",
    "baro_df = df_dict['baro_df']\n",
    "accelerometer_df = df_dict['accelerometer_df']\n",
    "magneto_df = df_dict['magneto_df']\n",
    "\n",
    "flight_info_df = df_dict['flight_info_df']\n",
    "\n",
    "orientation_info_df = df_dict['orientation_info_df']\n",
    "filtered_data_info_df = df_dict['filtered_data_info_df']\n",
    "\n",
    "event_info_df = df_dict['event_info_df']\n",
    "error_info_df = df_dict['error_info_df']\n",
    "flight_states_df = df_dict['flight_states_df']"
   ]
  },
  {
   "cell_type": "code",
   "execution_count": null,
   "metadata": {},
   "outputs": [],
   "source": [
    "# error_info_df.error.unique()"
   ]
  },
  {
   "cell_type": "code",
   "execution_count": null,
   "metadata": {},
   "outputs": [],
   "source": [
    "# for error in error_info_df.error.unique():\n",
    "#     #err = int(error_info_df.iloc[idx][\"error\"])\n",
    "#     txt = f\"{error}:<br />\"\n",
    "#     for key, val in ERROR_MAP.items():\n",
    "#         if key & error:\n",
    "#             txt += f\"{val}<br />\"\n",
    "#     print(txt)"
   ]
  },
  {
   "cell_type": "code",
   "execution_count": null,
   "metadata": {},
   "outputs": [],
   "source": [
    "# error_info_df.groupby(by=\"error\").agg({\"ts\": \"first\"})"
   ]
  },
  {
   "cell_type": "markdown",
   "metadata": {},
   "source": [
    "## Generate Plots"
   ]
  },
  {
   "cell_type": "code",
   "execution_count": null,
   "metadata": {},
   "outputs": [],
   "source": [
    "imu_plots = plot_imu_data(imu_df, flight_states_df, event_info_df, error_info_df)\n",
    "magneto_plots = plot_magneto_data(magneto_df, flight_states_df, event_info_df, error_info_df)\n",
    "accelerometer_plots = plot_acc_data(accelerometer_df, flight_states_df, event_info_df, error_info_df)\n",
    "baro_plots = plot_baro_data(baro_df, flight_states_df, event_info_df, error_info_df)\n",
    "state_plots = plot_flight_info(flight_info_df, filtered_data_info_df, flight_states_df, event_info_df, error_info_df, False)"
   ]
  },
  {
   "cell_type": "code",
   "execution_count": null,
   "metadata": {},
   "outputs": [],
   "source": [
    "figures_to_html(imu_plots, baro_plots, accelerometer_plots, magneto_plots, state_plots, f'{plot_output_dir}/{base_name} - plots.html')"
   ]
  },
  {
   "cell_type": "code",
   "execution_count": null,
   "metadata": {},
   "outputs": [],
   "source": [
    "show(state_plots)\n",
    "show(imu_plots)\n",
    "show(baro_plots)\n",
    "show(accelerometer_plots)\n",
    "show(magneto_plots)"
   ]
  },
  {
   "cell_type": "code",
   "execution_count": null,
   "metadata": {},
   "outputs": [],
   "source": []
  }
 ],
 "metadata": {
  "kernelspec": {
   "display_name": "Python 3.9.7 64-bit",
   "language": "python",
   "name": "python3"
  },
  "language_info": {
   "codemirror_mode": {
    "name": "ipython",
    "version": 3
   },
   "file_extension": ".py",
   "mimetype": "text/x-python",
   "name": "python",
   "nbconvert_exporter": "python",
   "pygments_lexer": "ipython3",
   "version": "3.9.7"
  },
  "metadata": {
   "interpreter": {
    "hash": "63fd5069d213b44bf678585dea6b12cceca9941eaf7f819626cde1f2670de90d"
   }
  },
  "vscode": {
   "interpreter": {
    "hash": "916dbcbb3f70747c44a77c7bcd40155683ae19c65e1c03b4aa3499c5328201f1"
   }
  }
 },
 "nbformat": 4,
 "nbformat_minor": 4
}
