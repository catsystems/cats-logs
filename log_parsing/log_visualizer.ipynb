{
 "cells": [
  {
   "cell_type": "code",
   "execution_count": null,
   "metadata": {},
   "outputs": [],
   "source": [
    "from embedded_constants import FLIGHT_MAP\n",
    "from plot_generator import *\n",
    "from html_generator import *\n",
    "import binary_parser"
   ]
  },
  {
   "cell_type": "code",
   "execution_count": null,
   "metadata": {},
   "outputs": [],
   "source": [
    "STATE_MAP = FLIGHT_MAP\n",
    "log_path = 'flight_logs/2022_03_21_drone/drone_flight_4.log'"
   ]
  },
  {
   "cell_type": "code",
   "execution_count": null,
   "metadata": {},
   "outputs": [],
   "source": [
    "%%capture\n",
    "df_dict, plot_output_dir, base_name = binary_parser.extract_data(log_path, STATE_MAP)\n",
    "\n",
    "imu_df = df_dict['imu_df']\n",
    "baro_df = df_dict['baro_df']\n",
    "accelerometer_df = df_dict['accelerometer_df']\n",
    "magneto_df = df_dict['magneto_df']\n",
    "\n",
    "flight_info_df = df_dict['flight_info_df']\n",
    "\n",
    "orientation_info_df = df_dict['orientation_info_df']\n",
    "filtered_data_info_df = df_dict['filtered_data_info_df']\n",
    "\n",
    "event_info_df = df_dict['event_info_df']\n",
    "error_info_df = df_dict['error_info_df']\n",
    "flight_states_df = df_dict['flight_states_df']"
   ]
  },
  {
   "cell_type": "markdown",
   "metadata": {},
   "source": [
    "## Generate Plots"
   ]
  },
  {
   "cell_type": "code",
   "execution_count": null,
   "metadata": {},
   "outputs": [],
   "source": [
    "imu_plots = plot_imu_data(imu_df, flight_states_df, event_info_df, error_info_df)\n",
    "magneto_plots = plot_magneto_data(magneto_df, flight_states_df, event_info_df, error_info_df)\n",
    "accelerometer_plots = plot_acc_data(accelerometer_df, flight_states_df, event_info_df, error_info_df)\n",
    "baro_plots = plot_baro_data(baro_df, flight_states_df, event_info_df, error_info_df)\n",
    "state_plots = plot_flight_info(flight_info_df, filtered_data_info_df, flight_states_df, event_info_df, error_info_df, False)"
   ]
  },
  {
   "cell_type": "code",
   "execution_count": null,
   "metadata": {},
   "outputs": [],
   "source": [
    "figures_to_html(imu_plots, baro_plots, accelerometer_plots, magneto_plots, state_plots, f'{plot_output_dir}/{base_name} - plots.html')"
   ]
  },
  {
   "cell_type": "code",
   "execution_count": null,
   "metadata": {},
   "outputs": [],
   "source": [
    "show(state_plots)\n",
    "show(imu_plots)\n",
    "show(baro_plots)\n",
    "show(accelerometer_plots)\n",
    "show(magneto_plots)"
   ]
  },
  {
   "cell_type": "code",
   "execution_count": null,
   "metadata": {},
   "outputs": [],
   "source": []
  }
 ],
 "metadata": {
  "interpreter": {
   "hash": "622358be533a4d88e60f9f311e51c86fde79b89df18568ca9c610cb22dd36ee8"
  },
  "kernelspec": {
   "display_name": "Python 3 (ipykernel)",
   "language": "python",
   "name": "python3"
  },
  "language_info": {
   "codemirror_mode": {
    "name": "ipython",
    "version": 3
   },
   "file_extension": ".py",
   "mimetype": "text/x-python",
   "name": "python",
   "nbconvert_exporter": "python",
   "pygments_lexer": "ipython3",
   "version": "3.10.0"
  },
  "metadata": {
   "interpreter": {
    "hash": "63fd5069d213b44bf678585dea6b12cceca9941eaf7f819626cde1f2670de90d"
   }
  }
 },
 "nbformat": 4,
 "nbformat_minor": 4
}
